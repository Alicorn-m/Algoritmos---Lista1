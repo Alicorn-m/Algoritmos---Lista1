{
 "cells": [
  {
   "cell_type": "code",
   "execution_count": 6,
   "metadata": {},
   "outputs": [
    {
     "name": "stdout",
     "output_type": "stream",
     "text": [
      "Digite um número:\n",
      "1\n",
      "O número é 1\n"
     ]
    }
   ],
   "source": [
    "# 1. Faça um Programa que peça um número e então mostre a mensagem: O número informado foi [número].\n",
    "\n",
    "num = input('Digite um número:\\n')\n",
    "print('O número é',num)"
   ]
  },
  {
   "cell_type": "code",
   "execution_count": 5,
   "metadata": {},
   "outputs": [
    {
     "name": "stdout",
     "output_type": "stream",
     "text": [
      "Digite o primeiro número: 4.5\n",
      "Digite o segundo número: 5\n",
      "A soma é:  9.5\n"
     ]
    }
   ],
   "source": [
    "# 2. Faça um Programa que peça dois números e imprima a soma.\n",
    "\n",
    "num1 = float(input('Digite o primeiro número: '))\n",
    "num2 = float(input('Digite o segundo número: '))\n",
    "soma = num1+num2\n",
    "\n",
    "print ('A soma é: ', soma)"
   ]
  },
  {
   "cell_type": "code",
   "execution_count": 7,
   "metadata": {},
   "outputs": [
    {
     "name": "stdout",
     "output_type": "stream",
     "text": [
      "nota 1: 7\n",
      "nota 2: 7.5\n",
      "nota 3: 10\n",
      "nota 4: 10\n",
      "A média é:  8.625\n"
     ]
    }
   ],
   "source": [
    "# 3. Faça um Programa que peça as 4 notas bimestrais e mostre a média.\n",
    "\n",
    "nota1 = float(input('nota 1: '))\n",
    "nota2 = float(input('nota 2: '))\n",
    "nota3 = float(input('nota 3: '))\n",
    "nota4 = float(input('nota 4: '))\n",
    "\n",
    "media = (nota1+nota2+nota3+nota4)/4\n",
    "\n",
    "print ('A média é: ', media)"
   ]
  },
  {
   "cell_type": "code",
   "execution_count": 12,
   "metadata": {},
   "outputs": [
    {
     "name": "stdout",
     "output_type": "stream",
     "text": [
      "Digite o valor do metro: 6.5\n",
      " 6.5 m corresponde a 650.0 cm\n"
     ]
    }
   ],
   "source": [
    "# 4. Faça um Programa que converta metros para centímetros.\n",
    "\n",
    "m = float(input('Digite o valor do metro: '))\n",
    "cm = m*100\n",
    "\n",
    "print (' {} m corresponde a {} cm'. format (m, cm))"
   ]
  },
  {
   "cell_type": "code",
   "execution_count": 13,
   "metadata": {},
   "outputs": [
    {
     "name": "stdout",
     "output_type": "stream",
     "text": [
      "Digite o valor do raio: 1\n",
      "A área de um círculo com o raio igual a 1.0 é 3.14\n"
     ]
    }
   ],
   "source": [
    "# 5. Faça um Programa que peça o raio de um círculo, calcule e mostre sua área.\n",
    "\n",
    "r = float(input('Digite o valor do raio: '))\n",
    "area = 3.14*(r**2)\n",
    "\n",
    "print ('A área de um círculo com o raio igual a {} é {}'. format (r, area))"
   ]
  },
  {
   "cell_type": "code",
   "execution_count": null,
   "metadata": {},
   "outputs": [],
   "source": []
  }
 ],
 "metadata": {
  "kernelspec": {
   "display_name": "Python 3",
   "language": "python",
   "name": "python3"
  },
  "language_info": {
   "codemirror_mode": {
    "name": "ipython",
    "version": 3
   },
   "file_extension": ".py",
   "mimetype": "text/x-python",
   "name": "python",
   "nbconvert_exporter": "python",
   "pygments_lexer": "ipython3",
   "version": "3.7.6"
  }
 },
 "nbformat": 4,
 "nbformat_minor": 4
}
